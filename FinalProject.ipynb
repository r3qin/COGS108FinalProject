{
 "cells": [
  {
   "cell_type": "markdown",
   "metadata": {},
   "source": [
    "# COGS 108 - Final Project "
   ]
  },
  {
   "cell_type": "markdown",
   "metadata": {},
   "source": [
    "- Project proposal feedback and guidelines below\n",
    "\n",
    "- Most crime on first days of the month\n",
    "\n",
    "- American holidays\n",
    "\n",
    "- Look at Veterans Day/working holiday and try to find correlation"
   ]
  },
  {
   "cell_type": "markdown",
   "metadata": {},
   "source": [
    "**Holidays**"
   ]
  },
  {
   "cell_type": "markdown",
   "metadata": {},
   "source": [
    "New Year’s Day (January 1)\n",
    "\n",
    "Birthday of Martin Luther King, Jr. (3rd Monday in January)\n",
    "\n",
    "Washington’s Birthday (3rd Monday in February)\n",
    "\n",
    "Memorial Day (last Monday in May)\n",
    "\n",
    "Independence Day (July 4)\n",
    "\n",
    "Labor Day (1st Monday in September)\n",
    "\n",
    "Columbus Day (2nd Monday in October)\n",
    "\n",
    "Veterans Day (November 11)\n",
    "\n",
    "Thanksgiving Day (4th Thursday in November)\n",
    "\n",
    "Christmas Day (December 25)\n"
   ]
  },
  {
   "cell_type": "markdown",
   "metadata": {},
   "source": [
    "# Overview"
   ]
  },
  {
   "cell_type": "markdown",
   "metadata": {},
   "source": [
    "For our COGS 108 project, we decided to analyze the crime rates on American holidays in Los Angeles. This city in particular was chosen for us to contain a moderate amount of entries while having enough data to work with. We predicted that the rate of crime in Los Angeles would increase during these holidays."
   ]
  },
  {
   "cell_type": "markdown",
   "metadata": {},
   "source": [
    "# Names\n",
    "\n",
    "- Vivian Pham\n",
    "- Denzel Rodil\n",
    "- Aaron Truong\n",
    "- Angela Zhu\n",
    "- Gigi Li\n",
    "- Rui Qin\n"
   ]
  },
  {
   "cell_type": "markdown",
   "metadata": {},
   "source": [
    "# Group Members IDs\n",
    "\n",
    "- A12692885\n",
    "- A12155756\n",
    "- A13691652\n",
    "- A14658765\n",
    "- A13749379\n",
    "- A14001686\n"
   ]
  },
  {
   "cell_type": "markdown",
   "metadata": {},
   "source": [
    "# Research Question"
   ]
  },
  {
   "cell_type": "markdown",
   "metadata": {},
   "source": [
    "- What is the influence of major (government mandated) holidays on crime rates in Los Angeles from 2015 to 2018?\n",
    "- The variable we are measuring is the date of each month regardless of whether there is an American (government mandated) holiday or not. We considered other variables such as gender and type of crime committed but concluded that including them would create a different project in itself. Since our topic is very broad, additional variables would only be needed for specific and unrelated topics. We also did not include holidays that were not mandated by the government such as Halloween and Valentines Day but we included them in our analysis.\n"
   ]
  },
  {
   "cell_type": "markdown",
   "metadata": {},
   "source": [
    "## Background and Prior Work"
   ]
  },
  {
   "cell_type": "markdown",
   "metadata": {},
   "source": [
    "The background of our dataset comes from a crime data census from 2010 to the present as well as crime stats for the region of San Diego. We planned to take a look to see if the time of year circulating around major holidays has a relationship with the crime rates in Los Angeles. There have been studies done in the past that look at the effect of different factors such as religion or seasons on the crime rate. In an article by Matthew Lee, they take a look into the influence of religious institutions on crime in rural areas. In another article by David McDowall about the seasonal cycle of crime, which found that there are in fact patterns and seasonal behaviors for major crime rates. It seems that seasonal behavior is influenced by environmental and social components that may vary based on location. This other research shows the influence of factors that influence crime in areas around the world. The seasonal patterns and the religious influences support the fact that there might be an influence of crime rates around major holidays or religious holidays that are apart of California’s seasonal pattern.\n",
    "\n",
    "^^^^^^ This is copy and pasted from project proposal (NOT FINAL)\n",
    "In our analysis, although we did not find a correlation between government holidays we discovered that more crimes occurred on the first day of every month. \n",
    "\n",
    "\n",
    "References (include links):\n",
    "- 1) Matthew R. Lee , The Religious Institutional Base and Violent Crime in Rural Areas, https://www.jstor.org/stable/3838287?Search=yes&resultItemClick=true&searchText=crime&searchText=rates&searchText=on&searchText=major&searchText=holidays&searchUri=%2Faction%2FdoBasicSearch%3Facc%3Doff%26amp%3Bgroup%3Dnone%26amp%3Bwc%3Don%26amp%3BQuery%3Dcrime%2Brates%2Bon%2Bmajor%2Bholidays%26amp%3Bfc%3Doff&ab_segments=0%2Fdefault-2%2Fcontrol&refreqid=search%3A2058996b1f52923be5dbd27c54485e1e&seq=1#page_scan_tab_contents\n",
    "- 2) David McDowall, Seasonal Cycles in Crime, and Their Variability, https://www.jstor.org/stable/43551937?Search=yes&resultItemClick=true&searchText=crime&searchText=rates&searchText=on&searchText=major&searchText=holidays&searchUri=%2Faction%2FdoBasicSearch%3Facc%3Doff%26amp%3Bgroup%3Dnone%26amp%3Bwc%3Don%26amp%3BQuery%3Dcrime%2Brates%2Bon%2Bmajor%2Bholidays%26amp%3Bfc%3Doff&ab_segments=0%2Fdefault-2%2Fcontrol&refreqid=search%3A2058996b1f52923be5dbd27c54485e1e&seq=1#page_scan_tab_contents"
   ]
  },
  {
   "cell_type": "markdown",
   "metadata": {},
   "source": [
    "# Hypothesis\n"
   ]
  },
  {
   "cell_type": "markdown",
   "metadata": {},
   "source": [
    "There are more crimes committed on major (government mandated) holidays than on other days of the year. We thought that the rate of crime would increase during the holidays because the people who commit the crimes would want to make their move during a time that most people have no work. If there are several people having work off during these holidays, we assumed that people who are planning to commit a crime would have an easier time doing so."
   ]
  },
  {
   "cell_type": "markdown",
   "metadata": {},
   "source": [
    "# Dataset(s)"
   ]
  },
  {
   "cell_type": "markdown",
   "metadata": {},
   "source": [
    "*Fill in your dataset information here*\n",
    "\n",
    "(Copy this information for each dataset)\n",
    "- Dataset Name: Crime Data from 2010 to Present\n",
    "- Link to the dataset: https://catalog.data.gov/dataset/crime-data-from-2010-to-present\n",
    "- Number of observations: 1,963,743 observations\n",
    "\n",
    "1-2 sentences describing each dataset. \n",
    "- This dataset contains the variables such as date, time, and location of the crime and its report, type of crime committed (crime code), weapon used, victim age, and crime status code and description. For our analysis, we focused on the variables such as date reported, date, time, and location of where it occurred, crime code and it’s description, area name and id, reporting district, and dr number. We chose to focus on these variables because we believed they would help us to find out when, where, and what kinds of crimes are committed most often.\n",
    "\n",
    "If you plan to use multiple datasets, add 1-2 sentences about how you plan to combine these datasets."
   ]
  },
  {
   "cell_type": "markdown",
   "metadata": {},
   "source": [
    "# Setup"
   ]
  },
  {
   "cell_type": "code",
   "execution_count": 1,
   "metadata": {},
   "outputs": [],
   "source": [
    "import pandas as pd\n",
    "import numpy as np\n",
    "import matplotlib.pyplot as plt\n",
    "from scipy import stats\n",
    "import statsmodels.api as sm\n",
    "import patsy\n",
    "import datetime as dt"
   ]
  },
  {
   "cell_type": "markdown",
   "metadata": {},
   "source": [
    "# Data Cleaning"
   ]
  },
  {
   "cell_type": "markdown",
   "metadata": {},
   "source": [
    "Import Data"
   ]
  },
  {
   "cell_type": "code",
   "execution_count": 3,
   "metadata": {},
   "outputs": [],
   "source": [
    "df = pd.read_csv(\"Crime_Data_from_2010_to_Present.csv\")"
   ]
  },
  {
   "cell_type": "markdown",
   "metadata": {},
   "source": [
    "Convert string variable \"date\" to three numerical variable \"Year\", \"Month\", and \"Day\". And add a column of ones which represent one crime happened."
   ]
  },
  {
   "cell_type": "code",
   "execution_count": 4,
   "metadata": {},
   "outputs": [],
   "source": [
    "df[\"time\"] = df[\"Date Occurred\"].str.split('/')\n",
    "df[\"Year\"] = pd.to_numeric(df[\"time\"].str[2])\n",
    "df[\"Month\"] = pd.to_numeric(df[\"time\"].str[0])\n",
    "df[\"Day\"] = pd.to_numeric(df[\"time\"].str[1])\n",
    "df.drop(columns=[\"time\"], inplace = True)\n",
    "df[\"date\"] = df[[\"Month\", \"Day\", \"Year\"]].values.tolist()\n",
    "df[\"Num\"] = np.ones(df.shape[0])\n",
    "df = df.loc[(df[\"Year\"] >= 2015) & (df[\"Year\"] < 2019),:]"
   ]
  },
  {
   "cell_type": "markdown",
   "metadata": {},
   "source": [
    "Define the holidays date as wrote above and create a column with boolean type to check if the day is a holiday."
   ]
  },
  {
   "cell_type": "code",
   "execution_count": 6,
   "metadata": {},
   "outputs": [],
   "source": [
    "Holi_2015 = [\"01/01/2015\", \"01/19/2015\", \"02/16/2015\", \"03/25/2015\", \"07/04/2015\", \"09/07/2015\", \"10/12/2015\", \n",
    "        \"11/11/2015\", \"11/26/2015\", \"12/25/2015\"]\n",
    "Holi_2016 = [\"01/01/2016\", \"01/18/2016\", \"02/15/2016\", \"03/30/2016\", \"07/04/2016\", \"09/05/2016\", \"10/10/2016\", \n",
    "        \"11/11/2016\", \"11/24/2016\", \"12/25/2016\"]\n",
    "Holi_2017 = [\"01/01/2017\", \"01/16/2017\", \"02/20/2017\", \"03/29/2017\", \"07/04/2017\", \"09/04/2017\", \"10/09/2017\", \n",
    "        \"11/11/2017\", \"11/23/2017\", \"12/25/2017\"]\n",
    "Holi_2018 = [\"01/01/2018\", \"01/15/2018\", \"02/19/2018\", \"03/28/2018\", \"07/04/2018\", \"09/03/2018\", \"10/08/2018\", \n",
    "        \"11/11/2018\", \"11/22/2018\", \"12/25/2018\"]\n",
    "holidays = Holi_2015 + Holi_2016 + Holi_2017 + Holi_2018\n",
    "df[\"is_holiday\"] = df[\"Date Occurred\"].isin(holidays)"
   ]
  },
  {
   "cell_type": "markdown",
   "metadata": {},
   "source": [
    "Calculate the number of crimes on every day during these four years and split the data into two groups: holidays and non-holidays."
   ]
  },
  {
   "cell_type": "code",
   "execution_count": 7,
   "metadata": {},
   "outputs": [],
   "source": [
    "num_crime_holiday_3 = df.groupby([\"Date Occurred\"]).sum().is_holiday.reset_index()\n",
    "num_crime_holiday_3 = num_crime_holiday_3[num_crime_holiday_3[\"is_holiday\"] != 0]\n",
    "num_crime_nonholiday_3 = df.groupby([\"Date Occurred\"]).sum().Num - df.groupby([\"Date Occurred\"]).sum().is_holiday\n",
    "num_crime_nonholiday_3 = num_crime_nonholiday_3.reset_index()\n",
    "num_crime_nonholiday_3.columns=([\"Date Occurred\", \"Num\"])\n",
    "num_crime_nonholiday_3 = num_crime_nonholiday_3[num_crime_nonholiday_3[\"Num\"] != 0]"
   ]
  },
  {
   "cell_type": "markdown",
   "metadata": {},
   "source": [
    "Calculate the average number of crimes per day in each month and split the data into two groups: holidays and non-holidays."
   ]
  },
  {
   "cell_type": "code",
   "execution_count": 14,
   "metadata": {},
   "outputs": [],
   "source": [
    "num_crime_holiday = df.groupby([\"Month\"]).sum().is_holiday\n",
    "num_holidays = [2, 1, 1, 0, 0, 0, 1, 0, 1, 1, 2, 1]\n",
    "for i in range(1,13):\n",
    "    if num_holidays[i-1] != 0:\n",
    "        num_crime_holiday[i] = num_crime_holiday[i]/num_holidays[i-1]\n",
    "num_crime_nonholiday = df.groupby([\"Month\"]).sum().Num - num_crime_holiday\n",
    "num_nonholidays = [29, 27, 30, 30, 31, 30, 30, 31, 29, 30, 28, 30]\n",
    "for i in range(1,13):\n",
    "    num_crime_nonholiday[i] = num_crime_nonholiday[i]/num_nonholidays[i-1]\n",
    "new_num_crime_holiday = num_crime_holiday.drop(labels=[4,5,6,8])\n",
    "new_num_crime_nonholiday = num_crime_nonholiday.drop(labels=[4,5,6,8])"
   ]
  },
  {
   "cell_type": "markdown",
   "metadata": {},
   "source": [
    "Test Normality of the number of crimes on every day during these four years"
   ]
  },
  {
   "cell_type": "code",
   "execution_count": 8,
   "metadata": {},
   "outputs": [
    {
     "data": {
      "text/plain": [
       "Text(0, 0.5, 'frequency')"
      ]
     },
     "execution_count": 8,
     "metadata": {},
     "output_type": "execute_result"
    },
    {
     "data": {
      "image/png": "[encoded data removed]",
      "text/plain": [
       "<Figure size 432x288 with 1 Axes>"
      ]
     },
     "metadata": {
      "needs_background": "light"
     },
     "output_type": "display_data"
    }
   ],
   "source": [
    "plt.hist(num_crime_holiday_3[\"is_holiday\"])\n",
    "plt.xlabel(\"Number of crimes\")\n",
    "plt.ylabel(\"frequency\")"
   ]
  },
  {
   "cell_type": "code",
   "execution_count": 9,
   "metadata": {},
   "outputs": [
    {
     "data": {
      "text/plain": [
       "NormaltestResult(statistic=38.87468721284825, pvalue=3.618003051962233e-09)"
      ]
     },
     "execution_count": 9,
     "metadata": {},
     "output_type": "execute_result"
    }
   ],
   "source": [
    "stats.normaltest(num_crime_holiday_3[\"is_holiday\"])"
   ]
  },
  {
   "cell_type": "code",
   "execution_count": 11,
   "metadata": {},
   "outputs": [
    {
     "data": {
      "text/plain": [
       "Text(0, 0.5, 'frequency')"
      ]
     },
     "execution_count": 11,
     "metadata": {},
     "output_type": "execute_result"
    },
    {
     "data": {
      "image/png": "[encoded data removed]",
      "text/plain": [
       "<Figure size 432x288 with 1 Axes>"
      ]
     },
     "metadata": {
      "needs_background": "light"
     },
     "output_type": "display_data"
    }
   ],
   "source": [
    "plt.hist(num_crime_nonholiday_3[\"Num\"])\n",
    "plt.xlabel(\"Number of crimes\")\n",
    "plt.ylabel(\"frequency\")"
   ]
  },
  {
   "cell_type": "code",
   "execution_count": 12,
   "metadata": {},
   "outputs": [
    {
     "data": {
      "text/plain": [
       "NormaltestResult(statistic=566.4692270827927, pvalue=9.834906941909027e-124)"
      ]
     },
     "execution_count": 12,
     "metadata": {},
     "output_type": "execute_result"
    }
   ],
   "source": [
    "stats.normaltest(num_crime_nonholiday_3[\"Num\"])"
   ]
  },
  {
   "cell_type": "markdown",
   "metadata": {},
   "source": [
    "Results of normality testing\n",
    "- For number of crimes on holidays, since the p-value is less than the significance level 0.05, we reject the null hypothesis that the random variable is normally distributed.\n",
    "- For number of crimes on non-holidays, since the p-value is less than the significance level 0.05, we reject the null hypothesis that the random variable is normally distributed."
   ]
  },
  {
   "cell_type": "markdown",
   "metadata": {},
   "source": [
    "# Data Analysis & Results"
   ]
  },
  {
   "cell_type": "markdown",
   "metadata": {},
   "source": [
    "**Wilcoxon ranked sum test on the number of crimes that happened every day of last 4 years**\n",
    "- Null hypothesis: the distribution of number of crimes on the holidays is the same as the distribution of number of crimes on the non holidays\n",
    "- Alternative hypothesis: there is a shift between two distributions"
   ]
  },
  {
   "cell_type": "code",
   "execution_count": 13,
   "metadata": {},
   "outputs": [
    {
     "data": {
      "text/plain": [
       "RanksumsResult(statistic=-2.2078320550103623, pvalue=0.0272559826419051)"
      ]
     },
     "execution_count": 13,
     "metadata": {},
     "output_type": "execute_result"
    }
   ],
   "source": [
    "stats.ranksums(num_crime_holiday_3[\"is_holiday\"], num_crime_nonholiday_3[\"Num\"])"
   ]
  },
  {
   "cell_type": "markdown",
   "metadata": {},
   "source": [
    "Result of Wilcoxon ranked sum test:\n",
    "- Since the p-value (0.027) is less than the significance level 0.05, we reject the null hypothesis. However, the statistic suggests that the number of crimes that happened on holidays is actually not as many as crimes that happened on non-holidays"
   ]
  },
  {
   "cell_type": "markdown",
   "metadata": {},
   "source": [
    "**Wilcoxon signed rank test on the average number of crimes that happened every day in each month**"
   ]
  },
  {
   "cell_type": "markdown",
   "metadata": {},
   "source": [
    "- Difference between the average number of crimes that happened on holidays and the average number of crimes that happened on non-holidays is 0\n",
    "- Difference between the average number of crimes that happened on holidays and the average number of crimes that happened on non-holidays is not 0"
   ]
  },
  {
   "cell_type": "code",
   "execution_count": 19,
   "metadata": {},
   "outputs": [
    {
     "name": "stderr",
     "output_type": "stream",
     "text": [
      "/anaconda3/lib/python3.6/site-packages/scipy/stats/morestats.py:2778: UserWarning: Warning: sample size too small for normal approximation.\n",
      "  warnings.warn(\"Warning: sample size too small for normal approximation.\")\n"
     ]
    },
    {
     "data": {
      "text/plain": [
       "WilcoxonResult(statistic=10.0, pvalue=0.2626182904425206)"
      ]
     },
     "execution_count": 19,
     "metadata": {},
     "output_type": "execute_result"
    }
   ],
   "source": [
    "stats.wilcoxon(list(new_num_crime_holiday), list(new_num_crime_nonholiday))"
   ]
  },
  {
   "cell_type": "markdown",
   "metadata": {},
   "source": [
    "- Result of the Wilcoxon signed rank test: Since the p-value is larger than the signficance level 0.05, we fail to reject the null hypothesis. Then the test sugguests that average number of crimes that happened on holidays and the average number of crimes that happened on non-holidays is 0."
   ]
  },
  {
   "cell_type": "markdown",
   "metadata": {},
   "source": [
    "**The Monte Carlo Wilcoxon signed rank test**"
   ]
  },
  {
   "cell_type": "markdown",
   "metadata": {},
   "source": [
    "Due to the limited size of data for Wilcoxon signed rank test, we decided to do the Monte Carlo Wilcoxon signed rank test."
   ]
  },
  {
   "cell_type": "markdown",
   "metadata": {},
   "source": [
    "- Difference between the average number of crimes that happened on holidays and the average number of crimes that happened on non-holidays is 0\n",
    "- Difference between the average number of crimes that happened on holidays and the average number of crimes that happened on non-holidays is not 0"
   ]
  },
  {
   "cell_type": "code",
   "execution_count": 21,
   "metadata": {},
   "outputs": [],
   "source": [
    "diff = new_num_crime_holiday - new_num_crime_nonholiday\n",
    "w_rand = []\n",
    "for b in range(10000):\n",
    "    sign = np.random.choice([-1,1], 8)\n",
    "    srank = stats.rankdata(abs(diff))*sign\n",
    "    w_rand.append(srank[srank>0].sum())\n",
    "prob_larger = np.mean(10 <= np.array(w_rand))\n",
    "prob_smaller = np.mean(10 >= np.array(w_rand))\n",
    "p_value = 2*min([prob_larger, prob_smaller])"
   ]
  },
  {
   "cell_type": "code",
   "execution_count": 22,
   "metadata": {},
   "outputs": [
    {
     "data": {
      "text/plain": [
       "0.3162"
      ]
     },
     "execution_count": 22,
     "metadata": {},
     "output_type": "execute_result"
    }
   ],
   "source": [
    "p_value"
   ]
  },
  {
   "cell_type": "markdown",
   "metadata": {},
   "source": [
    "- Result of the Wilcoxon signed rank test: Since the p-value is larger than the signficance level 0.05, we fail to reject the null hypothesis. Then the test sugguests that average number of crimes that happened on holidays and the average number of crimes that happened on non-holidays is 0."
   ]
  },
  {
   "cell_type": "markdown",
   "metadata": {},
   "source": [
    "**Linear Regression (if Necessary)**"
   ]
  },
  {
   "cell_type": "code",
   "execution_count": 23,
   "metadata": {},
   "outputs": [],
   "source": [
    "num_crime_holiday_3[\"Date Occurred\"] = pd.to_datetime(num_crime_holiday_3[\"Date Occurred\"])\n",
    "num_crime_nonholiday_3[\"Date Occurred\"] = pd.to_datetime(num_crime_nonholiday_3[\"Date Occurred\"])\n",
    "num_crime_holiday_3[\"Date Occurred\"] = num_crime_holiday_3[\"Date Occurred\"].map(dt.datetime.toordinal)\n",
    "num_crime_nonholiday_3[\"Date Occurred\"] = num_crime_nonholiday_3[\"Date Occurred\"].map(dt.datetime.toordinal)\n",
    "num_crime_holiday_3 = num_crime_holiday_3.sort_values(by=\"Date Occurred\")\n",
    "num_crime_nonholiday_3 = num_crime_nonholiday_3.sort_values(by=\"Date Occurred\")"
   ]
  },
  {
   "cell_type": "markdown",
   "metadata": {},
   "source": [
    "Linear regression on number of crimes that happened on holidays"
   ]
  },
  {
   "cell_type": "code",
   "execution_count": 24,
   "metadata": {},
   "outputs": [
    {
     "data": {
      "image/png": "[encoded data removed]",
      "text/plain": [
       "<Figure size 432x288 with 1 Axes>"
      ]
     },
     "metadata": {
      "needs_background": "light"
     },
     "output_type": "display_data"
    }
   ],
   "source": [
    "x = num_crime_holiday_3[\"Date Occurred\"]\n",
    "y = num_crime_holiday_3[\"is_holiday\"]\n",
    "x_m = np.column_stack((np.ones(len(x)),x))\n",
    "y_m = np.matrix(y)\n",
    "W = np.linalg.inv(x_m.T.dot(x_m)).dot(x_m.T).dot(y)\n",
    "plt.scatter(x, y)\n",
    "x_s = np.linspace(735500, 737100, 1000)\n",
    "plt.plot(x_s, W[0] + W[1]*x_s, color = \"r\")\n",
    "plt.xlabel(\"Time\")\n",
    "plt.ylabel(\"Number of crimes on holidays\")\n",
    "plt.show()"
   ]
  },
  {
   "cell_type": "markdown",
   "metadata": {},
   "source": [
    "Linear regression on number of crimes that happened on non-holidays"
   ]
  },
  {
   "cell_type": "code",
   "execution_count": 25,
   "metadata": {},
   "outputs": [
    {
     "data": {
      "image/png": "[encoded data removed]",
      "text/plain": [
       "<Figure size 432x288 with 1 Axes>"
      ]
     },
     "metadata": {
      "needs_background": "light"
     },
     "output_type": "display_data"
    }
   ],
   "source": [
    "x = num_crime_nonholiday_3[\"Date Occurred\"]\n",
    "y = num_crime_nonholiday_3[\"Num\"]\n",
    "x_m = np.column_stack((np.ones(len(x)),x))\n",
    "y_m = np.matrix(y)\n",
    "W = np.linalg.inv(x_m.T.dot(x_m)).dot(x_m.T).dot(y)\n",
    "plt.scatter(x, y)\n",
    "x_s = np.linspace(735500, 737100, 1000)\n",
    "plt.plot(x_s, W[0] + W[1]*x_s, color = \"r\")\n",
    "plt.xlabel(\"Time\")\n",
    "plt.ylabel(\"Number of crimes\")\n",
    "plt.show()"
   ]
  },
  {
   "cell_type": "markdown",
   "metadata": {},
   "source": [
    "# Ethics & Privacy"
   ]
  },
  {
   "cell_type": "markdown",
   "metadata": {},
   "source": [
    "**Are public and government data always reliable?**"
   ]
  },
  {
   "cell_type": "markdown",
   "metadata": {},
   "source": [
    "- There may be instances where data from the government may not always be reliable, but the data that is distributed by the government is still one of the most consistent and reliable sources in comparison to other sources."
   ]
  },
  {
   "cell_type": "markdown",
   "metadata": {},
   "source": [
    "**How will you determine if the data is reliable?**"
   ]
  },
  {
   "cell_type": "markdown",
   "metadata": {},
   "source": [
    "- This is a Non-Federal dataset covered by different Terms of Use than Data.gov."
   ]
  },
  {
   "cell_type": "markdown",
   "metadata": {},
   "source": [
    "**Is the data biased?**"
   ]
  },
  {
   "cell_type": "markdown",
   "metadata": {},
   "source": [
    "- The bias is not biased because crimes are classified by crime codes and the variables in the data are mainly facts and information on where and what took place."
   ]
  },
  {
   "cell_type": "markdown",
   "metadata": {},
   "source": [
    "**Who could the results from the analysis harm?**"
   ]
  },
  {
   "cell_type": "markdown",
   "metadata": {},
   "source": [
    "#TODO"
   ]
  },
  {
   "cell_type": "markdown",
   "metadata": {},
   "source": [
    "**Who could profit off of these findings?**"
   ]
  },
  {
   "cell_type": "markdown",
   "metadata": {},
   "source": [
    "- Since these findings are open to the public, no one would really profit off of the data"
   ]
  },
  {
   "cell_type": "markdown",
   "metadata": {},
   "source": [
    "**Say your findings show certain religious holidays experience more crime**"
   ]
  },
  {
   "cell_type": "markdown",
   "metadata": {},
   "source": []
  },
  {
   "cell_type": "markdown",
   "metadata": {},
   "source": [
    "**What are the unintended consequences and how will you guard against these?**"
   ]
  },
  {
   "cell_type": "markdown",
   "metadata": {},
   "source": []
  },
  {
   "cell_type": "markdown",
   "metadata": {},
   "source": [
    "- http://deon.drivendata.org/#default-checklist"
   ]
  },
  {
   "cell_type": "markdown",
   "metadata": {},
   "source": [
    "**Did you have permission to use this data for this purpose?**"
   ]
  },
  {
   "cell_type": "markdown",
   "metadata": {},
   "source": [
    "- Given that the dataset is public, the publishers is allowing us to use the data for this purpose. However, ."
   ]
  },
  {
   "cell_type": "markdown",
   "metadata": {},
   "source": [
    "**Are there privacy concerns regarding your datasets that you need to deal with, and/or terms of use that you need to comply with?**"
   ]
  },
  {
   "cell_type": "markdown",
   "metadata": {},
   "source": [
    "- https://creativecommons.org/publicdomain/zero/1.0/legalcode "
   ]
  },
  {
   "cell_type": "markdown",
   "metadata": {},
   "source": [
    "**Are there potential biases in your dataset(s), in terms of who it composes, and how it was collected, that may be problematic in terms of it allowing for equitable analysis? (eg does your data exclude particular populations or is it likely to reflect particular human biases in a way that could be a problem?)**"
   ]
  },
  {
   "cell_type": "markdown",
   "metadata": {},
   "source": [
    "- This data uses "
   ]
  },
  {
   "cell_type": "markdown",
   "metadata": {},
   "source": [
    "**Are there any other issues related to your topic area, data, and/or analyses that are potentially problematic in terms of data privacy and equitable impact?**"
   ]
  },
  {
   "cell_type": "markdown",
   "metadata": {},
   "source": []
  },
  {
   "cell_type": "markdown",
   "metadata": {},
   "source": [
    "**How did you handle the issues you identified?**"
   ]
  },
  {
   "cell_type": "markdown",
   "metadata": {},
   "source": []
  },
  {
   "cell_type": "markdown",
   "metadata": {},
   "source": [
    "Our primary source was data.gov which is open data given by the U.S. government itself but our dataset is listed as a Non-Federal dataset covered by different Terms of Use than Data.gov. Since this dataset is available to everyone online, there are no issues with data privacy. Creative Commons (the organization publishing the dataset) states that they make no warranties regarding the use of their information and therefore allows us to use the dataset without any supervision. The way we are using the dataset is not for commercial purposes.\n",
    "\n",
    "This dataset reflects incidents of crime in the City of Los Angeles dating back to 2010. This data is transcribed from original crime reports that are typed on paper and therefore there may be some inaccuracies within the data (Los Angeles Police Department). Some location fields with missing data are noted as (0°, 0°). Address fields are only provided to the nearest hundred block in order to maintain privacy. This data is as accurate as the data in the database.\n"
   ]
  },
  {
   "cell_type": "markdown",
   "metadata": {},
   "source": [
    "# Conclusion & Discussion"
   ]
  },
  {
   "cell_type": "markdown",
   "metadata": {},
   "source": [
    "Our hypothesis was that there would be more crimes committed on major (government mandated) holidays than those on other days. We gathered and studied police reports from the city of Los Angeles from years 2015 to 2018. With our data and analysis we found out that there was no correlation between major holidays and the number of crimes committed. Instead, we found that more crimes were committed on the first day of each month compared to the rest of the days in the month. Some limitations with our project could be that some crime reports were not reported or withheld from the public. Our work on the correlation between crimes and holidays can help society become safe by alerting people to be more careful on some days than others …"
   ]
  },
  {
   "cell_type": "markdown",
   "metadata": {},
   "source": [
    "Limitation of analysis"
   ]
  },
  {
   "cell_type": "code",
   "execution_count": null,
   "metadata": {},
   "outputs": [],
   "source": []
  }
 ],
 "metadata": {
  "kernelspec": {
   "display_name": "Python 3",
   "language": "python",
   "name": "python3"
  },
  "language_info": {
   "codemirror_mode": {
    "name": "ipython",
    "version": 3
   },
   "file_extension": ".py",
   "mimetype": "text/x-python",
   "name": "python",
   "nbconvert_exporter": "python",
   "pygments_lexer": "ipython3",
   "version": "3.6.8"
  }
 },
 "nbformat": 4,
 "nbformat_minor": 2
}
