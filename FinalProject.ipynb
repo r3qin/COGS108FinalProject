{
 "cells": [
  {
   "cell_type": "markdown",
   "metadata": {},
   "source": [
    "# COGS 108 - Final Project "
   ]
  },
  {
   "cell_type": "markdown",
   "metadata": {},
   "source": [
    "# Overview"
   ]
  },
  {
   "cell_type": "markdown",
   "metadata": {},
   "source": [
    "For our COGS 108 project, we decided to analyze the crime rates on American (federal) holidays in Los Angeles. This city in particular was chosen by us since it contained a moderate amount of entries while having enough data to work with. We predicted that the rate of crime in Los Angeles would increase during these holidays."
   ]
  },
  {
   "cell_type": "markdown",
   "metadata": {},
   "source": [
    "# Names\n",
    "\n",
    "- Vivian Pham\n",
    "- Denzel Rodil\n",
    "- Aaron Truong\n",
    "- Angela Zhu\n",
    "- Gigi Li\n",
    "- Rui Qin\n"
   ]
  },
  {
   "cell_type": "markdown",
   "metadata": {},
   "source": [
    "# Group Members IDs\n",
    "\n",
    "- A12692885\n",
    "- A12155756\n",
    "- A13691652\n",
    "- A14658765\n",
    "- A13749379\n",
    "- A14001686\n"
   ]
  },
  {
   "cell_type": "markdown",
   "metadata": {},
   "source": [
    "# Research Question"
   ]
  },
  {
   "cell_type": "markdown",
   "metadata": {},
   "source": [
    "***What is the influence of major (Federal mandated) holidays on crime rates in Los Angeles from 2015 to 2018?***\n",
    "- The variable we are measuring is the date of each month regardless of whether there is an American (government mandated) holiday or not. We considered other variables such as gender and type of crime committed but concluded that including them would create a different project in itself. Since our topic is very broad, additional variables would only be needed for specific and unrelated topics. We also did not include holidays that were not mandated by the government such as Halloween and Valentine’s Day but we included them in our analysis.\n"
   ]
  },
  {
   "cell_type": "markdown",
   "metadata": {},
   "source": [
    "## Background and Prior Work"
   ]
  },
  {
   "cell_type": "markdown",
   "metadata": {},
   "source": [
    "The background of our dataset comes from a crime data census from 2010 to the present as well as crime stats for the region of San Diego. We planned to take a look to see if the time of year circulating around major holidays has a relationship with the crime rates in Los Angeles. There have been studies done in the past that look at the effect of different factors such as religion or seasons on the crime rate. In an article by Matthew Lee, they take a look into the influence of religious institutions on crime in rural areas. In another article by David McDowall about the seasonal cycle of crime, which found that there are in fact patterns and seasonal behaviors for major crime rates. It seems that seasonal behavior is influenced by environmental and social components that may vary based on location. This other research shows the influence of factors that influence crime in areas around the world. The seasonal patterns and the religious influences support the fact that there might be an influence of crime rates around major holidays or religious holidays that are apart of California’s seasonal pattern."
   ]
  },
  {
   "cell_type": "markdown",
   "metadata": {},
   "source": [
    "We chose to use federal holidays and did not decide to use holidays such as Easter or Halloween. We wanted to go a safe route by using holidays that are recognized by the US government."
   ]
  },
  {
   "cell_type": "markdown",
   "metadata": {},
   "source": [
    "- New Year’s Day (January 1)\n",
    "- Birthday of Martin Luther King, Jr. (3rd Monday in January)\n",
    "- Washington’s Birthday (3rd Monday in February)\n",
    "- Memorial Day (last Monday in May)\n",
    "- Independence Day (July 4)\n",
    "- Labor Day (1st Monday in September)\n",
    "- Columbus Day (2nd Monday in October)\n",
    "- Veterans Day (November 11)\n",
    "- Thanksgiving Day (4th Thursday in November)\n",
    "- Christmas Day (December 25)"
   ]
  },
  {
   "cell_type": "markdown",
   "metadata": {},
   "source": [
    "References (include links):\n",
    "- 1) Matthew R. Lee, The Religious Institutional Base and Violent Crime in Rural Areas, https://www.jstor.org/stable/3838287?Search=yes&resultItemClick=true&searchText=crime&searchText=rates&searchText=on&searchText=major&searchText=holidays&searchUri=%2Faction%2FdoBasicSearch%3Facc%3Doff%26amp%3Bgroup%3Dnone%26amp%3Bwc%3Don%26amp%3BQuery%3Dcrime%2Brates%2Bon%2Bmajor%2Bholidays%26amp%3Bfc%3Doff&ab_segments=0%2Fdefault-2%2Fcontrol&refreqid=search%3A2058996b1f52923be5dbd27c54485e1e&seq=1#page_scan_tab_contents\n",
    "- 2) David McDowall, Seasonal Cycles in Crime, and Their Variability, https://www.jstor.org/stable/43551937?Search=yes&resultItemClick=true&searchText=crime&searchText=rates&searchText=on&searchText=major&searchText=holidays&searchUri=%2Faction%2FdoBasicSearch%3Facc%3Doff%26amp%3Bgroup%3Dnone%26amp%3Bwc%3Don%26amp%3BQuery%3Dcrime%2Brates%2Bon%2Bmajor%2Bholidays%26amp%3Bfc%3Doff&ab_segments=0%2Fdefault-2%2Fcontrol&refreqid=search%3A2058996b1f52923be5dbd27c54485e1e&seq=1#page_scan_tab_contents"
   ]
  },
  {
   "cell_type": "markdown",
   "metadata": {},
   "source": [
    "# Hypothesis\n"
   ]
  },
  {
   "cell_type": "markdown",
   "metadata": {},
   "source": [
    "Our hypothesis was that there are more crimes committed on major (federal) holidays than on other days of the year (from 2015-2018).\n",
    "\n",
    "We thought that the rate of crime would increase during the federal holidays because those opportunistic would want to commit the crimes during a time when most people aren’t working. If many people have work off during these federal holidays, we assumed that people who are planning to commit a crime would have an easier time doing so or have the time to do so."
   ]
  },
  {
   "cell_type": "markdown",
   "metadata": {},
   "source": [
    "# Dataset(s)"
   ]
  },
  {
   "cell_type": "markdown",
   "metadata": {},
   "source": [
    "- Dataset Name: Crime Data from 2010 to Present\n",
    "- Link to the dataset: https://catalog.data.gov/dataset/crime-data-from-2010-to-present\n",
    "- Number of observations: 1,963,743 observations\n",
    "\n",
    "-  For each crime record in the dataset, there are 26 fields: “DR Number”, “Date Reported”, “Date Occurred”,  “Time Occurred”, “Area ID”, \t“Area Name”, “Reporting District”, “Crime Code”,\t“Crime Code Description”, “MO Codes”, “Victim Age”,\t “Victim Sex”,\t “Victim Descent”, “Premise Code”, “Premise Description”, “Weapon Used Code”, “Weapon Description”, “Status Code”,\t“Status Description”,\t“Crime Code 1”, “Crime Code 2”, “Crime Code 3”, “Crime Code 4”, “Address”, “Cross Street”, and “Location”. This dataset also specifically kept track of crimes only in the city of Los Angeles from 2010-to June 7th 2019, since it was transcribed from the original paper crime reports. As such, inaccuracies in the data are possible because of the transcriptions. Records with missing location fields are also noted as (0°, 0°) and address fields are approximated to the nearest hundred block to preserve people’s privacy. "
   ]
  },
  {
   "cell_type": "markdown",
   "metadata": {},
   "source": [
    "# Setup"
   ]
  },
  {
   "cell_type": "markdown",
   "metadata": {},
   "source": [
    "Packages used for analysis: "
   ]
  },
  {
   "cell_type": "code",
   "execution_count": 2,
   "metadata": {},
   "outputs": [],
   "source": [
    "import pandas as pd\n",
    "import numpy as np\n",
    "import matplotlib.pyplot as plt\n",
    "from scipy import stats\n",
    "import statsmodels.api as sm\n",
    "import patsy\n",
    "import datetime as dt"
   ]
  },
  {
   "cell_type": "markdown",
   "metadata": {},
   "source": [
    "# Data Cleaning"
   ]
  },
  {
   "cell_type": "markdown",
   "metadata": {},
   "source": [
    "Import Data"
   ]
  },
  {
   "cell_type": "code",
   "execution_count": 41,
   "metadata": {},
   "outputs": [],
   "source": [
    "df = pd.read_csv(\"Crime_Data_from_2010_to_Present.csv\")"
   ]
  },
  {
   "cell_type": "markdown",
   "metadata": {},
   "source": [
    "The original dataset had nearly 2,000,000 entries with 26 variables: DR Number, Date Reported, Date Occurred, Time Occurred, Area ID, Area Name, Reporting District, Crime Code, Crime Code Description, MO Codes, Victim Age, Victim Sex, Victim Description, Premise Code, Premise Description, Weapon Use, Weapon Description, Status Code, Status Description, Crime Code 1, Crime Code 2, Crime Code 3, Crime Code 4, Address, Cross Street, and Location. \n",
    "As a result, the data cleaning we performed mainly involved removing variables that we did not need since we were only looking for the amount of crimes that occurred, when they occurred, and the type of crime they were. Consequently, after cleaning the variables for only what was necessary, we were left with “Date reported”, “Date Occured”, “Time Occurred”,  “Location”, “Crime Code”, “Crime Description”, “Area Name/ID”, “Reporting District”, and “DR Number”. We chose to focus on these variables because we believed they were vital in learning when, where, and what kinds of crimes are committed most often. As such, fields like “Victim Age”, “Victim Sex”, “Address”, “Cross Street”, “Weapons Used Code”, and “Weapon Description” would not affect our data analysis. "
   ]
  },
  {
   "cell_type": "code",
   "execution_count": 42,
   "metadata": {},
   "outputs": [],
   "source": [
    "df.drop(columns=['Area ID', 'MO Codes', 'Victim Age', 'Victim Sex', 'Victim Descent', 'Premise Code', \n",
    "                 'Premise Description', 'Weapon Used Code', 'Weapon Description', 'Status Code', \n",
    "                 'Status Description', 'Crime Code 1', 'Crime Code 2', 'Crime Code 3', 'Crime Code 4',\n",
    "                 'Address', 'Cross Street'], inplace=True)"
   ]
  },
  {
   "cell_type": "code",
   "execution_count": 43,
   "metadata": {},
   "outputs": [
    {
     "data": {
      "text/html": [
       "<div>\n",
       "<style scoped>\n",
       "    .dataframe tbody tr th:only-of-type {\n",
       "        vertical-align: middle;\n",
       "    }\n",
       "\n",
       "    .dataframe tbody tr th {\n",
       "        vertical-align: top;\n",
       "    }\n",
       "\n",
       "    .dataframe thead th {\n",
       "        text-align: right;\n",
       "    }\n",
       "</style>\n",
       "<table border=\"1\" class=\"dataframe\">\n",
       "  <thead>\n",
       "    <tr style=\"text-align: right;\">\n",
       "      <th></th>\n",
       "      <th>DR Number</th>\n",
       "      <th>Date Reported</th>\n",
       "      <th>Date Occurred</th>\n",
       "      <th>Time Occurred</th>\n",
       "      <th>Area Name</th>\n",
       "      <th>Reporting District</th>\n",
       "      <th>Crime Code</th>\n",
       "      <th>Crime Code Description</th>\n",
       "      <th>Location</th>\n",
       "    </tr>\n",
       "  </thead>\n",
       "  <tbody>\n",
       "    <tr>\n",
       "      <th>0</th>\n",
       "      <td>11401303</td>\n",
       "      <td>09/13/2010</td>\n",
       "      <td>09/12/2010</td>\n",
       "      <td>45</td>\n",
       "      <td>Pacific</td>\n",
       "      <td>1485</td>\n",
       "      <td>740</td>\n",
       "      <td>VANDALISM - FELONY ($400 &amp; OVER, ALL CHURCH VA...</td>\n",
       "      <td>(33.9599, -118.3962)</td>\n",
       "    </tr>\n",
       "    <tr>\n",
       "      <th>1</th>\n",
       "      <td>70309629</td>\n",
       "      <td>08/09/2010</td>\n",
       "      <td>08/09/2010</td>\n",
       "      <td>1515</td>\n",
       "      <td>Newton</td>\n",
       "      <td>1324</td>\n",
       "      <td>946</td>\n",
       "      <td>OTHER MISCELLANEOUS CRIME</td>\n",
       "      <td>(34.0224, -118.2524)</td>\n",
       "    </tr>\n",
       "    <tr>\n",
       "      <th>2</th>\n",
       "      <td>100100508</td>\n",
       "      <td>01/08/2010</td>\n",
       "      <td>01/07/2010</td>\n",
       "      <td>2005</td>\n",
       "      <td>Central</td>\n",
       "      <td>182</td>\n",
       "      <td>330</td>\n",
       "      <td>BURGLARY FROM VEHICLE</td>\n",
       "      <td>(34.0389, -118.2643)</td>\n",
       "    </tr>\n",
       "    <tr>\n",
       "      <th>3</th>\n",
       "      <td>100100511</td>\n",
       "      <td>01/09/2010</td>\n",
       "      <td>01/06/2010</td>\n",
       "      <td>2100</td>\n",
       "      <td>Central</td>\n",
       "      <td>132</td>\n",
       "      <td>341</td>\n",
       "      <td>THEFT-GRAND ($950.01 &amp; OVER)EXCPT,GUNS,FOWL,LI...</td>\n",
       "      <td>(34.0538, -118.2488)</td>\n",
       "    </tr>\n",
       "    <tr>\n",
       "      <th>4</th>\n",
       "      <td>100100523</td>\n",
       "      <td>01/15/2010</td>\n",
       "      <td>01/15/2010</td>\n",
       "      <td>245</td>\n",
       "      <td>Central</td>\n",
       "      <td>182</td>\n",
       "      <td>740</td>\n",
       "      <td>VANDALISM - FELONY ($400 &amp; OVER, ALL CHURCH VA...</td>\n",
       "      <td>(34.0409, -118.2609)</td>\n",
       "    </tr>\n",
       "  </tbody>\n",
       "</table>\n",
       "</div>"
      ],
      "text/plain": [
       "   DR Number Date Reported Date Occurred  Time Occurred Area Name  \\\n",
       "0   11401303    09/13/2010    09/12/2010             45   Pacific   \n",
       "1   70309629    08/09/2010    08/09/2010           1515    Newton   \n",
       "2  100100508    01/08/2010    01/07/2010           2005   Central   \n",
       "3  100100511    01/09/2010    01/06/2010           2100   Central   \n",
       "4  100100523    01/15/2010    01/15/2010            245   Central   \n",
       "\n",
       "   Reporting District  Crime Code  \\\n",
       "0                1485         740   \n",
       "1                1324         946   \n",
       "2                 182         330   \n",
       "3                 132         341   \n",
       "4                 182         740   \n",
       "\n",
       "                              Crime Code Description             Location   \n",
       "0  VANDALISM - FELONY ($400 & OVER, ALL CHURCH VA...  (33.9599, -118.3962)  \n",
       "1                          OTHER MISCELLANEOUS CRIME  (34.0224, -118.2524)  \n",
       "2                              BURGLARY FROM VEHICLE  (34.0389, -118.2643)  \n",
       "3  THEFT-GRAND ($950.01 & OVER)EXCPT,GUNS,FOWL,LI...  (34.0538, -118.2488)  \n",
       "4  VANDALISM - FELONY ($400 & OVER, ALL CHURCH VA...  (34.0409, -118.2609)  "
      ]
     },
     "execution_count": 43,
     "metadata": {},
     "output_type": "execute_result"
    }
   ],
   "source": [
    "df.head()"
   ]
  },
  {
   "cell_type": "markdown",
   "metadata": {},
   "source": [
    "Convert string variable \"Date Occurred\" to three numerical variable \"Year\", \"Month\", and \"Day\". And add a column of ones which represent one crime happened."
   ]
  },
  {
   "cell_type": "code",
   "execution_count": 44,
   "metadata": {},
   "outputs": [],
   "source": [
    "df[\"time\"] = df[\"Date Occurred\"].str.split('/')\n",
    "df[\"Year\"] = pd.to_numeric(df[\"time\"].str[2])\n",
    "df[\"Month\"] = pd.to_numeric(df[\"time\"].str[0])\n",
    "df[\"Day\"] = pd.to_numeric(df[\"time\"].str[1])\n",
    "df.drop(columns=[\"time\"], inplace = True)\n",
    "df[\"date\"] = df[[\"Month\", \"Day\", \"Year\"]].values.tolist()\n",
    "df[\"Num\"] = np.ones(df.shape[0])"
   ]
  },
  {
   "cell_type": "markdown",
   "metadata": {},
   "source": [
    "Even after narrowing down the variables our group would analyze, we were left with a lot more data then we would need. In order for our code to work, we had to decrease the massive amount of data that was being processed and analyzed. So we further narrowed our inspection range of crime rates in Los Angeles to range from 2015 to 2018. This time period was chosen in order to have the most recent data and have our analysis focuses on the most recent crimes trends.\n"
   ]
  },
  {
   "cell_type": "code",
   "execution_count": 45,
   "metadata": {},
   "outputs": [],
   "source": [
    "df = df.loc[(df[\"Year\"] >= 2015) & (df[\"Year\"] < 2019),:]"
   ]
  },
  {
   "cell_type": "markdown",
   "metadata": {},
   "source": [
    "Define the holidays date as wrote above and create a column with boolean type to check if the day is a holiday."
   ]
  },
  {
   "cell_type": "code",
   "execution_count": 46,
   "metadata": {},
   "outputs": [],
   "source": [
    "Holi_2015 = [\"01/01/2015\", \"01/19/2015\", \"02/16/2015\", \"05/25/2015\", \"07/04/2015\", \"09/07/2015\", \n",
    "             \"10/12/2015\", \"11/11/2015\", \"11/26/2015\", \"12/25/2015\"]\n",
    "Holi_2016 = [\"01/01/2016\", \"01/18/2016\", \"02/15/2016\", \"05/30/2016\", \"07/04/2016\", \"09/05/2016\", \n",
    "             \"10/10/2016\", \"11/11/2016\", \"11/24/2016\", \"12/25/2016\"]\n",
    "Holi_2017 = [\"01/01/2017\", \"01/16/2017\", \"02/20/2017\", \"05/29/2017\", \"07/04/2017\", \"09/04/2017\", \n",
    "             \"10/09/2017\", \"11/11/2017\", \"11/23/2017\", \"12/25/2017\"]\n",
    "Holi_2018 = [\"01/01/2018\", \"01/15/2018\", \"02/19/2018\", \"05/28/2018\", \"07/04/2018\", \"09/03/2018\", \n",
    "             \"10/08/2018\", \"11/11/2018\", \"11/22/2018\", \"12/25/2018\"]\n",
    "holidays = Holi_2015 + Holi_2016 + Holi_2017 + Holi_2018\n",
    "df[\"is_holiday\"] = df[\"Date Occurred\"].isin(holidays)"
   ]
  },
  {
   "cell_type": "markdown",
   "metadata": {},
   "source": [
    "Calculate the average number of crimes per day in each month during four years and split the data into two groups: holidays and non-holidays."
   ]
  },
  {
   "cell_type": "code",
   "execution_count": 47,
   "metadata": {},
   "outputs": [],
   "source": [
    "num_crime_holiday_2 = df.groupby([\"Year\", \"Month\"]).sum().is_holiday.reset_index()\n",
    "num_crime_holiday_2[\"time\"] = num_crime_holiday_2[\"Year\"].apply(str) +\"/\" + num_crime_holiday_2[\"Month\"].apply(str)\n",
    "mean_num_crime_holiday = []\n",
    "for i in range(num_crime_holiday_2.shape[0]):\n",
    "    if num_holidays[num_crime_holiday_2[\"Month\"][i]-1] != 0:\n",
    "        a = num_crime_holiday_2[\"is_holiday\"][i]\n",
    "        b = num_holidays[num_crime_holiday_2[\"Month\"][i]-1]\n",
    "        mean_num_crime_holiday.append(a/b)\n",
    "    else:\n",
    "        mean_num_crime_holiday.append(0)\n",
    "num_crime_holiday_2[\"Average\"] = mean_num_crime_holiday\n",
    "num_crime_holiday_2 = num_crime_holiday_2[num_crime_holiday_2[\"is_holiday\"] != 0]"
   ]
  },
  {
   "cell_type": "code",
   "execution_count": 48,
   "metadata": {},
   "outputs": [],
   "source": [
    "num_crime_nonholiday_2 = df.groupby([\"Year\", \"Month\"]).sum().Num - df.groupby([\"Year\", \"Month\"]).sum().is_holiday\n",
    "num_crime_nonholiday_2 = num_crime_nonholiday_2.reset_index()\n",
    "num_crime_nonholiday_2.columns = [\"Year\", \"Month\", \"Num\"]\n",
    "num_crime_nonholiday_2[\"time\"] = num_crime_nonholiday_2[\"Year\"].apply(str) +\"/\" + num_crime_nonholiday_2[\"Month\"].apply(str)\n",
    "mean_num_crime_nonholiday = []\n",
    "for i in range(num_crime_nonholiday_2.shape[0]):\n",
    "    a = num_crime_nonholiday_2[\"Num\"][i]\n",
    "    b = num_nonholidays[num_crime_nonholiday_2[\"Month\"][i]-1]\n",
    "    mean_num_crime_nonholiday.append(a/b)\n",
    "num_crime_nonholiday_2[\"Average\"] = mean_num_crime_nonholiday\n",
    "num_crime_nonholiday_2 = num_crime_nonholiday_2[~num_crime_nonholiday_2[\"Month\"].isin([3,4,6,8])]"
   ]
  },
  {
   "cell_type": "markdown",
   "metadata": {},
   "source": [
    "Calculate the number of crimes on every day during these four years and split the data into two groups: holidays and non-holidays."
   ]
  },
  {
   "cell_type": "code",
   "execution_count": 49,
   "metadata": {},
   "outputs": [],
   "source": [
    "num_crime_holiday_3 = df.groupby([\"Date Occurred\"]).sum().is_holiday.reset_index()\n",
    "num_crime_holiday_3 = num_crime_holiday_3[num_crime_holiday_3[\"is_holiday\"] != 0]\n",
    "num_crime_nonholiday_3 = df.groupby([\"Date Occurred\"]).sum().Num - df.groupby([\"Date Occurred\"]).sum().is_holiday\n",
    "num_crime_nonholiday_3 = num_crime_nonholiday_3.reset_index()\n",
    "num_crime_nonholiday_3.columns=([\"Date Occurred\", \"Num\"])\n",
    "num_crime_nonholiday_3 = num_crime_nonholiday_3[num_crime_nonholiday_3[\"Num\"] != 0]"
   ]
  },
  {
   "cell_type": "markdown",
   "metadata": {},
   "source": [
    "Calculate the average number of crimes per day in each month (12 months in total) and split the data into two groups: holidays and non-holidays."
   ]
  },
  {
   "cell_type": "code",
   "execution_count": 50,
   "metadata": {},
   "outputs": [],
   "source": [
    "num_crime_holiday = df.groupby([\"Month\"]).sum().is_holiday\n",
    "num_holidays = [2, 1, 0, 0, 1, 0, 1, 0, 1, 1, 2, 1]\n",
    "for i in range(1,13):\n",
    "    if num_holidays[i-1] != 0:\n",
    "        num_crime_holiday[i] = num_crime_holiday[i]/num_holidays[i-1]\n",
    "num_crime_nonholiday = df.groupby([\"Month\"]).sum().Num - num_crime_holiday\n",
    "num_nonholidays = [29, 27, 31, 30, 30, 30, 30, 31, 29, 30, 28, 30]\n",
    "for i in range(1,13):\n",
    "    num_crime_nonholiday[i] = num_crime_nonholiday[i]/num_nonholidays[i-1]\n",
    "new_num_crime_holiday = num_crime_holiday.drop(labels=[3,4,6,8])\n",
    "new_num_crime_nonholiday = num_crime_nonholiday.drop(labels=[3,4,6,8])\n",
    "new_num_crime_holiday = new_num_crime_holiday/4\n",
    "new_num_crime_nonholiday = new_num_crime_nonholiday/4"
   ]
  },
  {
   "cell_type": "markdown",
   "metadata": {},
   "source": [
    "Test Normality of the number of crimes on every day during these four years"
   ]
  },
  {
   "cell_type": "markdown",
   "metadata": {},
   "source": [
    "- The graph below shows the distribution of the number of crimes on holidays during these four years"
   ]
  },
  {
   "cell_type": "code",
   "execution_count": 51,
   "metadata": {},
   "outputs": [
    {
     "data": {
      "text/plain": [
       "Text(0, 0.5, 'frequency')"
      ]
     },
     "execution_count": 51,
     "metadata": {},
     "output_type": "execute_result"
    },
    {
     "data": {
      "image/png": "[encoded data removed]",
      "text/plain": [
       "<Figure size 432x288 with 1 Axes>"
      ]
     },
     "metadata": {
      "needs_background": "light"
     },
     "output_type": "display_data"
    }
   ],
   "source": [
    "plt.hist(num_crime_holiday_3[\"is_holiday\"])\n",
    "plt.xlabel(\"Number of crimes\")\n",
    "plt.ylabel(\"frequency\")"
   ]
  },
  {
   "cell_type": "code",
   "execution_count": 52,
   "metadata": {},
   "outputs": [
    {
     "data": {
      "text/plain": [
       "NormaltestResult(statistic=39.047694599456534, pvalue=3.318186959469853e-09)"
      ]
     },
     "execution_count": 52,
     "metadata": {},
     "output_type": "execute_result"
    }
   ],
   "source": [
    "stats.normaltest(num_crime_holiday_3[\"is_holiday\"])"
   ]
  },
  {
   "cell_type": "markdown",
   "metadata": {},
   "source": [
    "- The graph below shows the distribution of the number of crimes on non-holidays during these four years"
   ]
  },
  {
   "cell_type": "code",
   "execution_count": 53,
   "metadata": {},
   "outputs": [
    {
     "data": {
      "text/plain": [
       "Text(0, 0.5, 'frequency')"
      ]
     },
     "execution_count": 53,
     "metadata": {},
     "output_type": "execute_result"
    },
    {
     "data": {
      "image/png": "[encoded data removed]",
      "text/plain": [
       "<Figure size 432x288 with 1 Axes>"
      ]
     },
     "metadata": {
      "needs_background": "light"
     },
     "output_type": "display_data"
    }
   ],
   "source": [
    "plt.hist(num_crime_nonholiday_3[\"Num\"])\n",
    "plt.xlabel(\"Number of crimes\")\n",
    "plt.ylabel(\"frequency\")"
   ]
  },
  {
   "cell_type": "code",
   "execution_count": 11,
   "metadata": {},
   "outputs": [
    {
     "data": {
      "text/plain": [
       "NormaltestResult(statistic=566.779638671107, pvalue=8.421030397004243e-124)"
      ]
     },
     "execution_count": 11,
     "metadata": {},
     "output_type": "execute_result"
    }
   ],
   "source": [
    "stats.normaltest(num_crime_nonholiday_3[\"Num\"])"
   ]
  },
  {
   "cell_type": "markdown",
   "metadata": {},
   "source": [
    "Results of normality testing\n",
    "- For number of crimes on holidays, since the p-value is less than the significance level 0.05, we reject the null hypothesis that the random variable is normally distributed.\n",
    "- For number of crimes on non-holidays, since the p-value is less than the significance level 0.05, we reject the null hypothesis that the random variable is normally distributed."
   ]
  },
  {
   "cell_type": "markdown",
   "metadata": {},
   "source": [
    "# Data Analysis & Results"
   ]
  },
  {
   "cell_type": "markdown",
   "metadata": {},
   "source": [
    "**Average number of crimes in LA on holidays vs non-holidays (2015-2018)**"
   ]
  },
  {
   "cell_type": "markdown",
   "metadata": {},
   "source": [
    "- We graphed the mean number of crimes per month in Los Angeles on holidays versus on non holidays for all the months except March, April, June, and August. These months were excluded from the graph of the mean number of crime per month on holidays because they did not contain any holidays. The months were excluded from the graph of mean number of crime per month on non holidays because we needed the sizes of the two data sets to match in order to test them."
   ]
  },
  {
   "cell_type": "markdown",
   "metadata": {},
   "source": [
    "- The graph below shows the mean number of crimes per month in Los Angeles on holidays"
   ]
  },
  {
   "cell_type": "code",
   "execution_count": 29,
   "metadata": {},
   "outputs": [
    {
     "data": {
      "text/plain": [
       "Text(0, 0.5, 'Average number of crimes per day')"
      ]
     },
     "execution_count": 29,
     "metadata": {},
     "output_type": "execute_result"
    },
    {
     "data": {
      "image/png": "[encoded data removed]",
      "text/plain": [
       "<Figure size 432x288 with 1 Axes>"
      ]
     },
     "metadata": {
      "needs_background": "light"
     },
     "output_type": "display_data"
    }
   ],
   "source": [
    "plt.bar(num_crime_holiday_2[\"time\"], num_crime_holiday_2[\"Average\"])\n",
    "plt.title(\"mean number of crimes per month on holidays\")\n",
    "locs = plt.xticks(rotation=90)\n",
    "plt.xlabel(\"Months\")\n",
    "plt.ylabel(\"Average number of crimes per day\")"
   ]
  },
  {
   "cell_type": "markdown",
   "metadata": {},
   "source": [
    "- The graph below shows the mean number of crimes per month in Los Angeles on non-holidays"
   ]
  },
  {
   "cell_type": "code",
   "execution_count": 30,
   "metadata": {},
   "outputs": [
    {
     "data": {
      "text/plain": [
       "Text(0, 0.5, 'Average number of crimes per day')"
      ]
     },
     "execution_count": 30,
     "metadata": {},
     "output_type": "execute_result"
    },
    {
     "data": {
      "image/png": "[encoded data removed]",
      "text/plain": [
       "<Figure size 432x288 with 1 Axes>"
      ]
     },
     "metadata": {
      "needs_background": "light"
     },
     "output_type": "display_data"
    }
   ],
   "source": [
    "plt.bar(num_crime_nonholiday_2[\"time\"], num_crime_nonholiday_2[\"Average\"])\n",
    "plt.title(\"mean number of crime per month on non-holidays\")\n",
    "locs = plt.xticks(rotation=90)\n",
    "plt.xlabel(\"Months\")\n",
    "plt.ylabel(\"Average number of crimes per day\")"
   ]
  },
  {
   "cell_type": "markdown",
   "metadata": {},
   "source": [
    "With these two graphs we can see that holidays have little correlation to the number of crimes per month, however there is a specifically larger increase of number crimes on January of every year. Aside from that, there is not a noticeable difference in the other holidays."
   ]
  },
  {
   "cell_type": "markdown",
   "metadata": {},
   "source": [
    "**Wilcoxon ranked sum test on the number of crimes that happened every day of last 4 years**\n",
    "\n",
    "Since the data is not normally distributed, we decided to utilize non-parametric testing such as Wilcoxon test\n",
    "- Null hypothesis: the distribution of number of crimes on the holidays is the same as the distribution of number of crimes on the non holidays\n",
    "- Alternative hypothesis: there is a shift between two distributions"
   ]
  },
  {
   "cell_type": "code",
   "execution_count": 37,
   "metadata": {},
   "outputs": [
    {
     "data": {
      "text/plain": [
       "RanksumsResult(statistic=-2.528366708779939, pvalue=0.011459458999327005)"
      ]
     },
     "execution_count": 37,
     "metadata": {},
     "output_type": "execute_result"
    }
   ],
   "source": [
    "stats.ranksums(num_crime_holiday_3[\"is_holiday\"], num_crime_nonholiday_3[\"Num\"])"
   ]
  },
  {
   "cell_type": "markdown",
   "metadata": {},
   "source": [
    "Result of Wilcoxon ranked sum test:\n",
    "- Since the p-value (0.0115) is less than the significance level 0.05, we reject the null hypothesis. However, the statistic suggests that the number of crimes that happened on holidays is actually not as many as crimes that happened on non-holidays"
   ]
  },
  {
   "cell_type": "markdown",
   "metadata": {},
   "source": [
    "**Wilcoxon signed rank test on the average number of crimes that happened every day in each month (12 in total)**"
   ]
  },
  {
   "cell_type": "markdown",
   "metadata": {},
   "source": [
    "- Null hypothesis: Difference between the average number of crimes that happened on holidays and the average number of crimes that happened on non-holidays is 0.\n",
    "- Alternative hypothesis: Difference between the average number of crimes that happened on holidays and the average number of crimes that happened on non-holidays is not 0"
   ]
  },
  {
   "cell_type": "markdown",
   "metadata": {},
   "source": [
    "The graph below shows the average number of crimes that happened on holidays in each months"
   ]
  },
  {
   "cell_type": "code",
   "execution_count": 33,
   "metadata": {},
   "outputs": [
    {
     "data": {
      "text/plain": [
       "Text(0, 0.5, 'Average number of crimes on holidays')"
      ]
     },
     "execution_count": 33,
     "metadata": {},
     "output_type": "execute_result"
    },
    {
     "data": {
      "image/png": "[encoded data removed]",
      "text/plain": [
       "<Figure size 432x288 with 1 Axes>"
      ]
     },
     "metadata": {
      "needs_background": "light"
     },
     "output_type": "display_data"
    }
   ],
   "source": [
    "plt.figure()\n",
    "new_num_crime_holiday.plot(kind=\"bar\")\n",
    "plt.ylabel(\"Average number of crimes on holidays\")"
   ]
  },
  {
   "cell_type": "markdown",
   "metadata": {},
   "source": [
    "The graph below shows the average number of crimes that happened on non-holidays in each months"
   ]
  },
  {
   "cell_type": "code",
   "execution_count": 32,
   "metadata": {},
   "outputs": [
    {
     "data": {
      "text/plain": [
       "Text(0, 0.5, 'Average number of crimes on non-holidays')"
      ]
     },
     "execution_count": 32,
     "metadata": {},
     "output_type": "execute_result"
    },
    {
     "data": {
      "image/png": "[encoded data removed]",
      "text/plain": [
       "<Figure size 432x288 with 1 Axes>"
      ]
     },
     "metadata": {
      "needs_background": "light"
     },
     "output_type": "display_data"
    }
   ],
   "source": [
    "plt.figure()\n",
    "new_num_crime_nonholiday.plot(kind=\"bar\")\n",
    "plt.ylabel(\"Average number of crimes on non-holidays\")"
   ]
  },
  {
   "cell_type": "markdown",
   "metadata": {},
   "source": [
    "With these two graphs we can see that holidays have little correlation to the number of crimes per month, however there is a specifically larger increase on New Years (January). Aside from that, there is not a noticeable difference in the other holidays."
   ]
  },
  {
   "cell_type": "code",
   "execution_count": 15,
   "metadata": {},
   "outputs": [
    {
     "name": "stderr",
     "output_type": "stream",
     "text": [
      "/anaconda3/lib/python3.6/site-packages/scipy/stats/morestats.py:2778: UserWarning: Warning: sample size too small for normal approximation.\n",
      "  warnings.warn(\"Warning: sample size too small for normal approximation.\")\n"
     ]
    },
    {
     "data": {
      "text/plain": [
       "WilcoxonResult(statistic=8.0, pvalue=0.16142946236708333)"
      ]
     },
     "execution_count": 15,
     "metadata": {},
     "output_type": "execute_result"
    }
   ],
   "source": [
    "stats.wilcoxon(list(new_num_crime_holiday), list(new_num_crime_nonholiday))"
   ]
  },
  {
   "cell_type": "markdown",
   "metadata": {},
   "source": [
    "- Result of the Wilcoxon signed rank test: Since the p-value is larger than the signficance level 0.05, we fail to reject the null hypothesis. Then the test sugguests that the difference between average number of crimes that happened on holidays and the average number of crimes that happened on non-holidays is around 0."
   ]
  },
  {
   "cell_type": "markdown",
   "metadata": {},
   "source": [
    "**The Monte Carlo Wilcoxon signed rank test**"
   ]
  },
  {
   "cell_type": "markdown",
   "metadata": {},
   "source": [
    "Due to the limited size of data for Wilcoxon signed rank test, we decided to do the Monte Carlo Wilcoxon signed rank test."
   ]
  },
  {
   "cell_type": "markdown",
   "metadata": {},
   "source": [
    "- Null hypothesis: Difference between the average number of crimes that happened on holidays and the average number of crimes that happened on non-holidays is 0\n",
    "- Alternative hypothesis: Difference between the average number of crimes that happened on holidays and the average number of crimes that happened on non-holidays is not 0"
   ]
  },
  {
   "cell_type": "code",
   "execution_count": 34,
   "metadata": {},
   "outputs": [],
   "source": [
    "diff = new_num_crime_holiday - new_num_crime_nonholiday\n",
    "w_rand = []\n",
    "for b in range(10000):\n",
    "    sign = np.random.choice([-1,1], 8)\n",
    "    srank = stats.rankdata(abs(diff))*sign\n",
    "    w_rand.append(srank[srank>0].sum())\n",
    "prob_larger = np.mean(8 <= np.array(w_rand))\n",
    "prob_smaller = np.mean(8 >= np.array(w_rand))\n",
    "p_value = 2*min([prob_larger, prob_smaller])"
   ]
  },
  {
   "cell_type": "markdown",
   "metadata": {},
   "source": [
    "To do the Monte Carlo Wilcoxon signed rank test, in each trial, we randomly choose the sign of our ranked data and compute the statistic. And we repeat this process for 10000 times to find the distribution of statistic of Wilcoxon signed rank test. Comparing the statistic with this distribution, we find the p-value of our test"
   ]
  },
  {
   "cell_type": "code",
   "execution_count": 36,
   "metadata": {},
   "outputs": [
    {
     "data": {
      "text/plain": [
       "0.1954"
      ]
     },
     "execution_count": 36,
     "metadata": {},
     "output_type": "execute_result"
    }
   ],
   "source": [
    "p_value"
   ]
  },
  {
   "cell_type": "markdown",
   "metadata": {},
   "source": [
    "- Result of the Wilcoxon signed rank test: Since the p-value is larger than the signficance level 0.05, we fail to reject the null hypothesis. Then the test sugguests that the difference between the average number of crimes that happened on holidays and the average number of crimes that happened on non-holidays is 0."
   ]
  },
  {
   "cell_type": "markdown",
   "metadata": {},
   "source": [
    "# Ethics & Privacy"
   ]
  },
  {
   "cell_type": "markdown",
   "metadata": {},
   "source": [
    "- What are the unintended consequences and how will you guard against these?\n",
    "- Are there potential biases in your dataset(s), in terms of who it composes, and how it was collected, that may be problematic in terms of it allowing for equitable analysis? (eg does your data exclude particular populations or is it likely to reflect particular human biases in a way that could be a problem?)"
   ]
  },
  {
   "cell_type": "markdown",
   "metadata": {},
   "source": [
    "Our primary source was data.gov which is open data given by the U.S. government itself but our dataset is listed as a Non-Federal dataset covered by different Terms of Use than Data.gov. The data is transcribed from original crime reports typed on paper (from the Los Angeles Police Department) so it was noted that there would be some inaccuracies with the data. Creative Commons (the organization publishing the dataset) states that they make no warranties regarding the use of their information and therefore allows us to use the dataset without any supervision. Since this dataset is available to everyone online, there are no issues with data privacy. The way we are using the dataset is not for commercial purposes so no profit would be made from our findings. Address fields in the dataset were provided to the nearest hundred block to maintain privacy but for our analysis we did not use this information."
   ]
  },
  {
   "cell_type": "markdown",
   "metadata": {},
   "source": [
    "# Conclusion & Discussion"
   ]
  },
  {
   "cell_type": "markdown",
   "metadata": {},
   "source": [
    "Our hypothesis was that there would be more crimes committed on major (government mandated) holidays than those on other days. We gathered and studied police reports from the city of Los Angeles from years 2015 to 2018. With our data and analysis we found out that there was no correlation between major holidays and the number of crimes committed. Instead, we found that more crimes were committed on the first day of each month compared to the rest of the days in the month. Some limitations with our project could be that some crime reports were not reported or withheld from the public. Our work on the correlation between crimes and holidays can help society become safe by alerting people to be more careful on some days than others …"
   ]
  }
 ],
 "metadata": {
  "kernelspec": {
   "display_name": "Python 3",
   "language": "python",
   "name": "python3"
  }
 },
 "nbformat": 4,
 "nbformat_minor": 2
}
